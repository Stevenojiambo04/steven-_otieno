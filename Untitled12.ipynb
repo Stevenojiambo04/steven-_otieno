{
  "nbformat": 4,
  "nbformat_minor": 0,
  "metadata": {
    "colab": {
      "provenance": [],
      "authorship_tag": "ABX9TyM3ZjZgFiWPo0+Jg4l6qz4Z",
      "include_colab_link": true
    },
    "kernelspec": {
      "name": "python3",
      "display_name": "Python 3"
    },
    "language_info": {
      "name": "python"
    }
  },
  "cells": [
    {
      "cell_type": "markdown",
      "metadata": {
        "id": "view-in-github",
        "colab_type": "text"
      },
      "source": [
        "<a href=\"https://colab.research.google.com/github/Stevenojiambo04/steven-_otieno/blob/main/Untitled12.ipynb\" target=\"_parent\"><img src=\"https://colab.research.google.com/assets/colab-badge.svg\" alt=\"Open In Colab\"/></a>"
      ]
    },
    {
      "cell_type": "code",
      "execution_count": 7,
      "metadata": {
        "colab": {
          "base_uri": "https://localhost:8080/"
        },
        "id": "xVQgwzAq3HbU",
        "outputId": "10687c20-20f9-4106-d1e8-230309c52171"
      },
      "outputs": [
        {
          "output_type": "stream",
          "name": "stdout",
          "text": [
            "130\n",
            "7\n",
            "18.571428571428573\n"
          ]
        }
      ],
      "source": [
        "temperatures=[10,20,15,30,14,16,25]\n",
        "print(sum(temperatures))\n",
        "print(len(temperatures))\n",
        "average_temperature=(sum(temperatures)/len(temperatures))\n",
        "print(average_temperature)"
      ]
    },
    {
      "cell_type": "code",
      "source": [
        "\n",
        "average_temperature=sum(temperatures)/len(temperatures)\n",
        "print(average_temperature)"
      ],
      "metadata": {
        "colab": {
          "base_uri": "https://localhost:8080/"
        },
        "id": "gQSgfCcI36j3",
        "outputId": "432eeec6-a7bf-4412-f9af-46155ce8e869"
      },
      "execution_count": 9,
      "outputs": [
        {
          "output_type": "stream",
          "name": "stdout",
          "text": [
            "18.571428571428573\n"
          ]
        }
      ]
    },
    {
      "cell_type": "code",
      "source": [
        "temperatures=[10,20,15,30,14,16,25]\n",
        "average_temperature=sum(temperatures)/len(temperatures)\n",
        "print(average_temperature)"
      ],
      "metadata": {
        "colab": {
          "base_uri": "https://localhost:8080/"
        },
        "id": "I1vgcGzo62VL",
        "outputId": "eb41fd4e-7e44-41a9-f641-c69208eeac80"
      },
      "execution_count": 10,
      "outputs": [
        {
          "output_type": "stream",
          "name": "stdout",
          "text": [
            "18.571428571428573\n"
          ]
        }
      ]
    },
    {
      "cell_type": "code",
      "source": [
        "print(max(temperatures))"
      ],
      "metadata": {
        "colab": {
          "base_uri": "https://localhost:8080/"
        },
        "id": "e08rYXQN7R4z",
        "outputId": "7f678ec1-b365-4a68-98c4-7aa8efb54dd9"
      },
      "execution_count": 12,
      "outputs": [
        {
          "output_type": "stream",
          "name": "stdout",
          "text": [
            "30\n"
          ]
        }
      ]
    },
    {
      "cell_type": "code",
      "source": [
        "print(min(temperatures))"
      ],
      "metadata": {
        "colab": {
          "base_uri": "https://localhost:8080/"
        },
        "id": "861TjgTl7kqB",
        "outputId": "eaae35c8-17d1-49bf-8a43-fdc0d2cd53b7"
      },
      "execution_count": 13,
      "outputs": [
        {
          "output_type": "stream",
          "name": "stdout",
          "text": [
            "10\n"
          ]
        }
      ]
    },
    {
      "cell_type": "code",
      "source": [
        "cars=['a','b','c','d','e']\n",
        "for car in cars:\n",
        "    print(car)"
      ],
      "metadata": {
        "colab": {
          "base_uri": "https://localhost:8080/"
        },
        "id": "kW0_leWm8hkw",
        "outputId": "d54cae6e-5f90-4ac6-a5ea-31d7cf940a6a"
      },
      "execution_count": 16,
      "outputs": [
        {
          "output_type": "stream",
          "name": "stdout",
          "text": [
            "a\n",
            "b\n",
            "c\n",
            "d\n",
            "e\n"
          ]
        }
      ]
    },
    {
      "cell_type": "code",
      "source": [],
      "metadata": {
        "id": "zaWMr5tm92Le"
      },
      "execution_count": null,
      "outputs": []
    }
  ]
}